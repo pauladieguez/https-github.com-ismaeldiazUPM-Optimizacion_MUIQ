{
 "cells": [
  {
   "cell_type": "markdown",
   "source": [
    "### Ejercicio 3: Introducción a la optimización"
   ],
   "metadata": {}
  },
  {
   "cell_type": "markdown",
   "source": [
    "La empresa Sunrise Breakfast Company debe producir 2000 libras al día de\r\n",
    "copos de cereales para satisfacer la demanda de su producto Sugar Sweet\r\n",
    "Cereal. El coste por cada libra de los ingredientes de que se compone el\r\n",
    "producto son: Ingrediente A 4 \\$/libra; B 3 \\$/libra; C 2\\$/libra. Los\r\n",
    "requisitos del gobierno establecen que la mezcla deba contener al menos\r\n",
    "el 10% del ingrediente A y el 20% del ingrediente B. Se sabe también que\r\n",
    "el uso de más de 800 libras por ton (1 ton=2000 libras) produce un saber\r\n",
    "inaceptable. Determinar el mínimo coste de la mezcla que satisfaga la\r\n",
    "demana de Sugar Sweet Cereal."
   ],
   "metadata": {}
  },
  {
   "cell_type": "markdown",
   "source": [
    "#### Importamos Pyomo"
   ],
   "metadata": {}
  },
  {
   "cell_type": "code",
   "execution_count": 25,
   "source": [
    "from pyomo.environ import *"
   ],
   "outputs": [],
   "metadata": {}
  },
  {
   "cell_type": "markdown",
   "source": [
    "#### Creamos un problema concreto, es decir, un objeto de la clase problema que ya contenga parámetros"
   ],
   "metadata": {}
  },
  {
   "cell_type": "code",
   "execution_count": 26,
   "source": [
    "model = ConcreteModel()"
   ],
   "outputs": [],
   "metadata": {}
  },
  {
   "cell_type": "markdown",
   "source": [
    "#### Definimos las variables como no negativas"
   ],
   "metadata": {}
  },
  {
   "cell_type": "code",
   "execution_count": 27,
   "source": [
    "model.A = Var(domain=NonNegativeReals)\r\n",
    "model.B = Var(domain=NonNegativeReals)\r\n",
    "model.C = Var(domain=NonNegativeReals)\r\n"
   ],
   "outputs": [],
   "metadata": {}
  },
  {
   "cell_type": "markdown",
   "source": [
    "#### Definimos la función objetivo"
   ],
   "metadata": {}
  },
  {
   "cell_type": "code",
   "execution_count": 28,
   "source": [
    "model.profit = Objective(expr = 4*model.A+3*model.B+2*model.C,\r\n",
    "                         sense=minimize)"
   ],
   "outputs": [],
   "metadata": {}
  },
  {
   "cell_type": "markdown",
   "source": [
    "#### Definimos la restricciones"
   ],
   "metadata": {}
  },
  {
   "cell_type": "code",
   "execution_count": 29,
   "source": [
    "model.CantA = Constraint(expr = model.A-0.1*(model.A+model.B+model.C) >= 0)\r\n",
    "model.CantB = Constraint(expr = model.B-0.2*(model.A+model.B+model.C) >= 0)\r\n",
    "model.CantC = Constraint(expr = model.C <= 800)\r\n",
    "model.Prod  = Constraint(expr = model.A+model.B+model.C == 2000)\r\n"
   ],
   "outputs": [],
   "metadata": {}
  },
  {
   "cell_type": "code",
   "execution_count": 30,
   "source": [
    "results = SolverFactory('glpk').solve(model)\r\n",
    "model.pprint()\r\n",
    "results.write()   "
   ],
   "outputs": [
    {
     "output_type": "stream",
     "name": "stdout",
     "text": [
      "3 Var Declarations\n",
      "    A : Size=1, Index=None\n",
      "        Key  : Lower : Value : Upper : Fixed : Stale : Domain\n",
      "        None :     0 : 200.0 :  None : False : False : NonNegativeReals\n",
      "    B : Size=1, Index=None\n",
      "        Key  : Lower : Value  : Upper : Fixed : Stale : Domain\n",
      "        None :     0 : 1000.0 :  None : False : False : NonNegativeReals\n",
      "    C : Size=1, Index=None\n",
      "        Key  : Lower : Value : Upper : Fixed : Stale : Domain\n",
      "        None :     0 : 800.0 :  None : False : False : NonNegativeReals\n",
      "\n",
      "1 Objective Declarations\n",
      "    profit : Size=1, Index=None, Active=True\n",
      "        Key  : Active : Sense    : Expression\n",
      "        None :   True : minimize : 4*A + 3*B + 2*C\n",
      "\n",
      "4 Constraint Declarations\n",
      "    CantA : Size=1, Index=None, Active=True\n",
      "        Key  : Lower : Body                : Upper : Active\n",
      "        None :   0.0 : A - 0.1*(A + B + C) :  +Inf :   True\n",
      "    CantB : Size=1, Index=None, Active=True\n",
      "        Key  : Lower : Body                : Upper : Active\n",
      "        None :   0.0 : B - 0.2*(A + B + C) :  +Inf :   True\n",
      "    CantC : Size=1, Index=None, Active=True\n",
      "        Key  : Lower : Body : Upper : Active\n",
      "        None :  -Inf :    C : 800.0 :   True\n",
      "    Prod : Size=1, Index=None, Active=True\n",
      "        Key  : Lower  : Body      : Upper  : Active\n",
      "        None : 2000.0 : A + B + C : 2000.0 :   True\n",
      "\n",
      "8 Declarations: A B C profit CantA CantB CantC Prod\n",
      "# ==========================================================\n",
      "# = Solver Results                                         =\n",
      "# ==========================================================\n",
      "# ----------------------------------------------------------\n",
      "#   Problem Information\n",
      "# ----------------------------------------------------------\n",
      "Problem: \n",
      "- Name: unknown\n",
      "  Lower bound: 5400.0\n",
      "  Upper bound: 5400.0\n",
      "  Number of objectives: 1\n",
      "  Number of constraints: 5\n",
      "  Number of variables: 4\n",
      "  Number of nonzeros: 11\n",
      "  Sense: minimize\n",
      "# ----------------------------------------------------------\n",
      "#   Solver Information\n",
      "# ----------------------------------------------------------\n",
      "Solver: \n",
      "- Status: ok\n",
      "  Termination condition: optimal\n",
      "  Statistics: \n",
      "    Branch and bound: \n",
      "      Number of bounded subproblems: 0\n",
      "      Number of created subproblems: 0\n",
      "  Error rc: 0\n",
      "  Time: 0.06482577323913574\n",
      "# ----------------------------------------------------------\n",
      "#   Solution Information\n",
      "# ----------------------------------------------------------\n",
      "Solution: \n",
      "- number of solutions: 0\n",
      "  number of solutions displayed: 0\n"
     ]
    }
   ],
   "metadata": {}
  }
 ],
 "metadata": {
  "kernelspec": {
   "name": "python3",
   "display_name": "Python 3.8.3 64-bit ('base': conda)"
  },
  "language_info": {
   "codemirror_mode": {
    "name": "ipython",
    "version": 3
   },
   "file_extension": ".py",
   "mimetype": "text/x-python",
   "name": "python",
   "nbconvert_exporter": "python",
   "pygments_lexer": "ipython3",
   "version": "3.8.3"
  },
  "interpreter": {
   "hash": "11ffc019a02cc0e21e59860b66c88ea81995ce9237607e8ab2c087a287ee4867"
  }
 },
 "nbformat": 4,
 "nbformat_minor": 4
}