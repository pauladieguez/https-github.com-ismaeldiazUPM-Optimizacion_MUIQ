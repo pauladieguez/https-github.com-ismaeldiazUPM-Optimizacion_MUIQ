{
 "cells": [
  {
   "cell_type": "markdown",
   "metadata": {},
   "source": [
    "### Ejercicio 5. Proceso por lotes (MILP)"
   ]
  },
  {
   "attachments": {
    "image.png": {
     "image/png": "[encoded data removed]"
    }
   },
   "cell_type": "markdown",
   "metadata": {},
   "source": [
    "Se dispone de dos unidades de producción (N1 y N2) que producen los productos 1 y 2, a partir de tres materias primas (A, B y C). La primera unidad, produce un máximo de 8000 lb/dia y la segunda 10000 lb/dia. Se sabe que para obtener una libra de producto 1, se requieren 0.4 lb de A y 0.6 lb de B. Para obtener una libra del producto 2 se requieren 0.3 lb de B y 0.7 lb de C. Se dispone de un máximo de 6000 lb/dia de B, pero no hay límites de A y C. Los beneficios unitarios del producto 1 y 2 son 0.16 y 0.20 €/lb. \n",
    "\n",
    "1. ¿Cuánto se debe producir de 1 y de 2, sabiendo que cada uno trabaja en producciones discontinuas de 2000 lb? \n",
    "2. Debido a una incidencia en la planta, solo se pueden producir un total de 5 lotes, ¿cuál es la producción óptima?\n",
    "\n",
    "![image.png](attachment:image.png)"
   ]
  },
  {
   "cell_type": "markdown",
   "metadata": {},
   "source": [
    "$$\n",
    "\\begin{align}\n",
    "\t&\\text{max }  &&  0.15x_1+0.2x_2  &&\\\\\n",
    "\t&\\text{s.t. }  && x_1    =  2000y_1\\\\\n",
    "\t&  && x_2    =  2000y_2\\\\\n",
    "    &  && 0.6x_1+0.3x_2 \\le 6000 \\\\\n",
    "    & && 0 \\le  y_1\\le 4 \\\\\n",
    "    & && 0 \\le  y_2\\le 5 \\\\\n",
    "    & && x_1,x_2 \\ge 0\\\\\n",
    "\\end{align}\n",
    "$$"
   ]
  },
  {
   "cell_type": "code",
   "execution_count": 14,
   "metadata": {},
   "outputs": [],
   "source": [
    "from pyomo.environ import *\n",
    "model=ConcreteModel()"
   ]
  },
  {
   "cell_type": "code",
   "execution_count": 15,
   "metadata": {},
   "outputs": [
    {
     "name": "stdout",
     "output_type": "stream",
     "text": [
      "# ==========================================================\n",
      "# = Solver Results                                         =\n",
      "# ==========================================================\n",
      "# ----------------------------------------------------------\n",
      "#   Problem Information\n",
      "# ----------------------------------------------------------\n",
      "Problem: \n",
      "- Name: unknown\n",
      "  Lower bound: 2600.0\n",
      "  Upper bound: 2600.0\n",
      "  Number of objectives: 1\n",
      "  Number of constraints: 4\n",
      "  Number of variables: 5\n",
      "  Number of nonzeros: 7\n",
      "  Sense: maximize\n",
      "# ----------------------------------------------------------\n",
      "#   Solver Information\n",
      "# ----------------------------------------------------------\n",
      "Solver: \n",
      "- Status: ok\n",
      "  Termination condition: optimal\n",
      "  Statistics: \n",
      "    Branch and bound: \n",
      "      Number of bounded subproblems: 3\n",
      "      Number of created subproblems: 3\n",
      "  Error rc: 0\n",
      "  Time: 0.02858877182006836\n",
      "# ----------------------------------------------------------\n",
      "#   Solution Information\n",
      "# ----------------------------------------------------------\n",
      "Solution: \n",
      "- number of solutions: 0\n",
      "  number of solutions displayed: 0\n",
      "4 Var Declarations\n",
      "    x1 : Size=1, Index=None\n",
      "        Key  : Lower : Value  : Upper : Fixed : Stale : Domain\n",
      "        None :     0 : 4000.0 :  None : False : False : NonNegativeReals\n",
      "    x2 : Size=1, Index=None\n",
      "        Key  : Lower : Value   : Upper : Fixed : Stale : Domain\n",
      "        None :     0 : 10000.0 :  None : False : False : NonNegativeReals\n",
      "    y1 : Size=1, Index=None\n",
      "        Key  : Lower : Value : Upper : Fixed : Stale : Domain\n",
      "        None :     1 :   2.0 :     4 : False : False : PositiveIntegers\n",
      "    y2 : Size=1, Index=None\n",
      "        Key  : Lower : Value : Upper : Fixed : Stale : Domain\n",
      "        None :     1 :   5.0 :     5 : False : False : PositiveIntegers\n",
      "\n",
      "1 Objective Declarations\n",
      "    obj : Size=1, Index=None, Active=True\n",
      "        Key  : Active : Sense    : Expression\n",
      "        None :   True : maximize : 0.15*x1 + 0.2*x2\n",
      "\n",
      "3 Constraint Declarations\n",
      "    C1 : Size=1, Index=None, Active=True\n",
      "        Key  : Lower : Body         : Upper : Active\n",
      "        None :   0.0 : x1 - 2000*y1 :   0.0 :   True\n",
      "    C2 : Size=1, Index=None, Active=True\n",
      "        Key  : Lower : Body         : Upper : Active\n",
      "        None :   0.0 : x2 - 2000*y2 :   0.0 :   True\n",
      "    C3 : Size=1, Index=None, Active=True\n",
      "        Key  : Lower : Body            : Upper  : Active\n",
      "        None :  -Inf : 0.6*x1 + 0.3*x2 : 6000.0 :   True\n",
      "\n",
      "8 Declarations: x1 x2 y1 y2 obj C1 C2 C3\n"
     ]
    }
   ],
   "source": [
    "model.x1=Var(within=NonNegativeReals)\n",
    "model.x2=Var(within=NonNegativeReals)\n",
    "model.y1=Var(within=PositiveIntegers,bounds=(0,4))\n",
    "model.y2=Var(within=PositiveIntegers,bounds=(0,5))\n",
    "\n",
    "model.obj = Objective(expr = 0.15*model.x1+0.2*model.x2, sense=maximize)\n",
    "\n",
    "model.C1=Constraint(expr = model.x1==2000*model.y1)\n",
    "model.C2=Constraint(expr = model.x2==2000*model.y2)\n",
    "model.C3=Constraint(expr = 0.6*model.x1+0.3*model.x2 <= 6000)\n",
    "\n",
    "\n",
    "results = SolverFactory('glpk').solve(model).write()\n",
    "model.pprint()"
   ]
  },
  {
   "cell_type": "markdown",
   "metadata": {},
   "source": [
    "#### Añadimos una restricción adicional para tener en cuenta que: $$y_1+y_2 \\le 5$$"
   ]
  },
  {
   "cell_type": "code",
   "execution_count": 16,
   "metadata": {},
   "outputs": [
    {
     "name": "stdout",
     "output_type": "stream",
     "text": [
      "# ==========================================================\n",
      "# = Solver Results                                         =\n",
      "# ==========================================================\n",
      "# ----------------------------------------------------------\n",
      "#   Problem Information\n",
      "# ----------------------------------------------------------\n",
      "Problem: \n",
      "- Name: unknown\n",
      "  Lower bound: 1900.0\n",
      "  Upper bound: 1900.0\n",
      "  Number of objectives: 1\n",
      "  Number of constraints: 5\n",
      "  Number of variables: 5\n",
      "  Number of nonzeros: 9\n",
      "  Sense: maximize\n",
      "# ----------------------------------------------------------\n",
      "#   Solver Information\n",
      "# ----------------------------------------------------------\n",
      "Solver: \n",
      "- Status: ok\n",
      "  Termination condition: optimal\n",
      "  Statistics: \n",
      "    Branch and bound: \n",
      "      Number of bounded subproblems: 1\n",
      "      Number of created subproblems: 1\n",
      "  Error rc: 0\n",
      "  Time: 0.03367781639099121\n",
      "# ----------------------------------------------------------\n",
      "#   Solution Information\n",
      "# ----------------------------------------------------------\n",
      "Solution: \n",
      "- number of solutions: 0\n",
      "  number of solutions displayed: 0\n",
      "4 Var Declarations\n",
      "    x1 : Size=1, Index=None\n",
      "        Key  : Lower : Value  : Upper : Fixed : Stale : Domain\n",
      "        None :     0 : 2000.0 :  None : False : False : NonNegativeReals\n",
      "    x2 : Size=1, Index=None\n",
      "        Key  : Lower : Value  : Upper : Fixed : Stale : Domain\n",
      "        None :     0 : 8000.0 :  None : False : False : NonNegativeReals\n",
      "    y1 : Size=1, Index=None\n",
      "        Key  : Lower : Value : Upper : Fixed : Stale : Domain\n",
      "        None :     1 :   1.0 :     4 : False : False : PositiveIntegers\n",
      "    y2 : Size=1, Index=None\n",
      "        Key  : Lower : Value : Upper : Fixed : Stale : Domain\n",
      "        None :     1 :   4.0 :     5 : False : False : PositiveIntegers\n",
      "\n",
      "1 Objective Declarations\n",
      "    obj : Size=1, Index=None, Active=True\n",
      "        Key  : Active : Sense    : Expression\n",
      "        None :   True : maximize : 0.15*x1 + 0.2*x2\n",
      "\n",
      "4 Constraint Declarations\n",
      "    C1 : Size=1, Index=None, Active=True\n",
      "        Key  : Lower : Body         : Upper : Active\n",
      "        None :   0.0 : x1 - 2000*y1 :   0.0 :   True\n",
      "    C2 : Size=1, Index=None, Active=True\n",
      "        Key  : Lower : Body         : Upper : Active\n",
      "        None :   0.0 : x2 - 2000*y2 :   0.0 :   True\n",
      "    C3 : Size=1, Index=None, Active=True\n",
      "        Key  : Lower : Body            : Upper  : Active\n",
      "        None :  -Inf : 0.6*x1 + 0.3*x2 : 6000.0 :   True\n",
      "    C4 : Size=1, Index=None, Active=True\n",
      "        Key  : Lower : Body    : Upper : Active\n",
      "        None :  -Inf : y1 + y2 :   5.0 :   True\n",
      "\n",
      "9 Declarations: x1 x2 y1 y2 obj C1 C2 C3 C4\n"
     ]
    }
   ],
   "source": [
    "model.C4=Constraint(expr = model.y1+model.y2 <= 5)\n",
    "\n",
    "\n",
    "results = SolverFactory('glpk').solve(model).write()\n",
    "model.pprint()"
   ]
  }
 ],
 "metadata": {
  "kernelspec": {
   "display_name": "Python 3",
   "language": "python",
   "name": "python3"
  },
  "language_info": {
   "codemirror_mode": {
    "name": "ipython",
    "version": 3
   },
   "file_extension": ".py",
   "mimetype": "text/x-python",
   "name": "python",
   "nbconvert_exporter": "python",
   "pygments_lexer": "ipython3",
   "version": "3.8.3"
  }
 },
 "nbformat": 4,
 "nbformat_minor": 4
}
