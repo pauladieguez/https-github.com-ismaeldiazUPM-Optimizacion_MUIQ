{
 "cells": [
  {
   "cell_type": "code",
   "execution_count": 45,
   "metadata": {},
   "outputs": [],
   "source": [
    "from pyomo.environ import *\n",
    "import matplotlib.pyplot as plt\n",
    "\n",
    "\n",
    "# max f1 = X1 <br>\n",
    "# max f2 = 3 X1 + 4 X2 <br>\n",
    "# st  X1 <= 20 <br>\n",
    "#     X2 <= 40 <br>\n",
    "#     5 X1 + 4 X2 <= 200 <br>\n",
    "\n",
    "x1=list()\n",
    "x2=list()\n",
    "f1=list()\n",
    "f2=list()\n",
    "\n",
    "\n",
    "def modelo(w1,w2):\n",
    "    model = ConcreteModel()\n",
    "    model.X1 = Var(within=NonNegativeReals)\n",
    "    model.X2 = Var(within=NonNegativeReals)\n",
    "\n",
    "    model.C1 = Constraint(expr = model.X1 <= 20)\n",
    "    model.C2 = Constraint(expr = model.X2 <= 40)\n",
    "    model.C3 = Constraint(expr = 5 * model.X1 + 4 * model.X2 <= 200)\n",
    "\n",
    "    model.f1 = Var()\n",
    "    model.f2 = Var()\n",
    "    model.C_f1 = Constraint(expr= model.f1 == model.X1)\n",
    "    model.C_f2 = Constraint(expr= model.f2 == 3 * model.X1 + 4 * model.X2)\n",
    "    model.O_f1 = Objective(expr= w1*model.f1+w2*model.f2  , sense=maximize)\n",
    "    solver = SolverFactory('glpk')\n",
    "    solver.solve(model);\n",
    "    return model.X1.value, model.X2.value,model.f1.value,model.f2.value\n",
    "\n",
    "#print( '( X1 , X2 ) = ( ' + str(value(model.X1)) + ' , ' + str(value(model.X2)) + ' )')\n",
    "#print( 'f1 = ' + str(value(model.f1)) )\n",
    "#print( 'f2 = ' + str(value(model.f2)) )\n",
    "#f2_min = value(model.f2)\n"
   ]
  },
  {
   "cell_type": "code",
   "execution_count": 48,
   "metadata": {},
   "outputs": [
    {
     "name": "stdout",
     "output_type": "stream",
     "text": [
      "[8.0, 20.0, 20.0, 8.0, 8.0, 8.0, 8.0, 20.0, 8.0, 8.0, 8.0, 20.0, 20.0, 8.0, 8.0, 8.0, 8.0, 20.0, 8.0, 8.0] [184.0, 160.0, 160.0, 184.0, 184.0, 184.0, 184.0, 160.0, 184.0, 184.0, 184.0, 160.0, 160.0, 184.0, 184.0, 184.0, 184.0, 160.0, 184.0, 184.0]\n"
     ]
    }
   ],
   "source": [
    "# generate random floating point values\n",
    "from random import seed\n",
    "from random import random\n",
    "# seed random number generator\n",
    "seed(1)\n",
    "# generate random numbers between 0-1\n",
    "for i in range(10):\n",
    "    w1 = random()\n",
    "    w2= 1-w1\n",
    "    x1val,x2val,f1val,f2val =modelo(w1,w2)\n",
    "    x1.append(x1val),x2.append(x2val),f1.append(f1val),f2.append(f2val)\n",
    "\n"
   ]
  },
  {
   "cell_type": "code",
   "execution_count": 47,
   "metadata": {},
   "outputs": [
    {
     "data": {
      "image/png": "[encoded data removed]",
      "text/plain": [
       "<Figure size 432x288 with 1 Axes>"
      ]
     },
     "metadata": {
      "needs_background": "light"
     },
     "output_type": "display_data"
    }
   ],
   "source": [
    "plt.plot(x1,x2,'o-.');\n",
    "plt.title('inefficient Pareto-front');\n",
    "plt.grid(True);"
   ]
  },
  {
   "cell_type": "code",
   "execution_count": null,
   "metadata": {},
   "outputs": [],
   "source": []
  }
 ],
 "metadata": {
  "kernelspec": {
   "display_name": "Python 3",
   "language": "python",
   "name": "python3"
  },
  "language_info": {
   "codemirror_mode": {
    "name": "ipython",
    "version": 3
   },
   "file_extension": ".py",
   "mimetype": "text/x-python",
   "name": "python",
   "nbconvert_exporter": "python",
   "pygments_lexer": "ipython3",
   "version": "3.8.3"
  }
 },
 "nbformat": 4,
 "nbformat_minor": 4
}
