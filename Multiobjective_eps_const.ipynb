{
 "cells": [
  {
   "cell_type": "code",
   "execution_count": 65,
   "metadata": {},
   "outputs": [
    {
     "name": "stdout",
     "output_type": "stream",
     "text": [
      "( X1 , X2 ) = ( 20.0 , 0.0 )\n",
      "f1 = 20.0\n",
      "f2 = 60.0\n"
     ]
    }
   ],
   "source": [
    "from pyomo.environ import *\n",
    "import matplotlib.pyplot as plt\n",
    "\n",
    "\n",
    "# max f1 = X1 <br>\n",
    "# max f2 = 3 X1 + 4 X2 <br>\n",
    "# st  X1 <= 20 <br>\n",
    "#     X2 <= 40 <br>\n",
    "#     5 X1 + 4 X2 <= 200 <br>\n",
    "\n",
    "model = ConcreteModel()\n",
    "\n",
    "model.X1 = Var(within=NonNegativeReals)\n",
    "model.X2 = Var(within=NonNegativeReals)\n",
    "\n",
    "model.C1 = Constraint(expr = model.X1 <= 20)\n",
    "model.C2 = Constraint(expr = model.X2 <= 40)\n",
    "model.C3 = Constraint(expr = 5 * model.X1 + 4 * model.X2 <= 200)\n",
    "\n",
    "model.f1 = Var()\n",
    "model.f2 = Var()\n",
    "model.C_f1 = Constraint(expr= model.f1 == model.X1)\n",
    "model.C_f2 = Constraint(expr= model.f2 == 3 * model.X1 + 4 * model.X2)\n",
    "model.O_f1 = Objective(expr= model.f1  , sense=maximize)\n",
    "model.O_f2 = Objective(expr= model.f2  , sense=maximize)\n",
    "\n",
    "model.O_f2.deactivate()\n",
    "\n",
    "solver = SolverFactory('glpk')\n",
    "solver.solve(model);\n",
    "\n",
    "print( '( X1 , X2 ) = ( ' + str(value(model.X1)) + ' , ' + str(value(model.X2)) + ' )')\n",
    "print( 'f1 = ' + str(value(model.f1)) )\n",
    "print( 'f2 = ' + str(value(model.f2)) )\n",
    "f2_min = value(model.f2)\n",
    "\n",
    "\n"
   ]
  },
  {
   "cell_type": "code",
   "execution_count": 66,
   "metadata": {},
   "outputs": [
    {
     "name": "stdout",
     "output_type": "stream",
     "text": [
      "( X1 , X2 ) = ( 8.0 , 40.0 )\n",
      "f1 = 8.0\n",
      "f2 = 184.0\n"
     ]
    }
   ],
   "source": [
    "# ## max f2\n",
    "\n",
    "model.O_f2.activate()\n",
    "model.O_f1.deactivate()\n",
    "\n",
    "solver = SolverFactory('glpk')\n",
    "solver.solve(model);\n",
    "\n",
    "print( '( X1 , X2 ) = ( ' + str(value(model.X1)) + ' , ' + str(value(model.X2)) + ' )')\n",
    "print( 'f1 = ' + str(value(model.f1)) )\n",
    "print( 'f2 = ' + str(value(model.f2)) )\n",
    "f2_max = value(model.f2)\n",
    "\n",
    "\n"
   ]
  },
  {
   "cell_type": "code",
   "execution_count": 67,
   "metadata": {},
   "outputs": [
    {
     "name": "stdout",
     "output_type": "stream",
     "text": [
      "Each iteration will keep f2 lower than some values between f2_min and f2_max, so [60.0, 184.0]\n",
      "60\n",
      "91\n",
      "122\n",
      "153\n",
      "184.0\n"
     ]
    },
    {
     "data": {
      "image/png": "[encoded data removed]",
      "text/plain": [
       "<Figure size 432x288 with 1 Axes>"
      ]
     },
     "metadata": {
      "needs_background": "light"
     },
     "output_type": "display_data"
    }
   ],
   "source": [
    "# ## apply normal $\\epsilon$-Constraint\n",
    "\n",
    "model.O_f1.activate()\n",
    "model.O_f2.deactivate()\n",
    "\n",
    "model.e = Param(initialize=0, mutable=True)\n",
    "\n",
    "model.C_epsilon = Constraint(expr = model.f2 == model.e)\n",
    "\n",
    "solver.solve(model);\n",
    "\n",
    "print('Each iteration will keep f2 lower than some values between f2_min and f2_max, so ['       + str(f2_min) + ', ' + str(f2_max) + ']')\n",
    "\n",
    "n = 4\n",
    "step = int((f2_max - f2_min) / n)\n",
    "steps = list(range(int(f2_min),int(f2_max),step)) + [f2_max]\n",
    "\n",
    "x1_l = []\n",
    "x2_l = []\n",
    "for i in steps:\n",
    "    print(i)\n",
    "    model.e = i\n",
    "    solver.solve(model);\n",
    "    x1_l.append(value(model.X1))\n",
    "    x2_l.append(value(model.X2))\n",
    "plt.plot(x1_l,x2_l,'o-.');\n",
    "plt.title('inefficient Pareto-front');\n",
    "plt.grid(True);\n",
    "\n",
    "\n"
   ]
  },
  {
   "cell_type": "code",
   "execution_count": 68,
   "metadata": {},
   "outputs": [
    {
     "name": "stdout",
     "output_type": "stream",
     "text": [
      "100.0\n",
      "69.0\n",
      "38.0\n",
      "7.0\n",
      "0.0\n"
     ]
    },
    {
     "data": {
      "image/png": "[encoded data removed]",
      "text/plain": [
       "<Figure size 432x288 with 1 Axes>"
      ]
     },
     "metadata": {
      "needs_background": "light"
     },
     "output_type": "display_data"
    }
   ],
   "source": [
    "# ## apply augmented $\\epsilon$-Constraint\n",
    "\n",
    "# max   f2 + delta*epsilon <br>\n",
    "#  s.t. f2 - s = e\n",
    "\n",
    "model.del_component(model.O_f1)\n",
    "model.del_component(model.O_f2)\n",
    "model.del_component(model.C_epsilon)\n",
    "\n",
    "model.delta = Param(initialize=0.00001)\n",
    "\n",
    "model.s = Var(within=NonNegativeReals)\n",
    "\n",
    "model.O_f1 = Objective(expr = model.f1 + model.delta * model.s, sense=maximize)\n",
    "\n",
    "model.C_e = Constraint(expr = model.f2 - model.s == model.e)\n",
    "\n",
    "x1_l = []\n",
    "x2_l = []\n",
    "for i in steps:\n",
    "    model.e = i\n",
    "    solver.solve(model);\n",
    "    print(model.s.value)\n",
    "    x1_l.append(value(model.X1))\n",
    "    x2_l.append(value(model.X2))\n",
    "plt.plot(x1_l,x2_l,'o-.');\n",
    "plt.title('efficient Pareto-front');\n",
    "plt.grid(True);"
   ]
  },
  {
   "cell_type": "code",
   "execution_count": null,
   "metadata": {},
   "outputs": [],
   "source": []
  },
  {
   "cell_type": "code",
   "execution_count": null,
   "metadata": {},
   "outputs": [],
   "source": []
  }
 ],
 "metadata": {
  "kernelspec": {
   "display_name": "Python 3",
   "language": "python",
   "name": "python3"
  },
  "language_info": {
   "codemirror_mode": {
    "name": "ipython",
    "version": 3
   },
   "file_extension": ".py",
   "mimetype": "text/x-python",
   "name": "python",
   "nbconvert_exporter": "python",
   "pygments_lexer": "ipython3",
   "version": "3.8.3"
  }
 },
 "nbformat": 4,
 "nbformat_minor": 4
}
