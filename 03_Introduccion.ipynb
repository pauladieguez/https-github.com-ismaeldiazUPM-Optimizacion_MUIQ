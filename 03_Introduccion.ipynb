{
 "cells": [
  {
   "cell_type": "markdown",
   "source": [
    "### Ejercicio 3: Introducción a la optimización"
   ],
   "metadata": {}
  },
  {
   "cell_type": "markdown",
   "source": [
    "Una empresa produce dos productos (x e y) con un beneficio neto de 40 y 30 $/kg respectivamente. Sin embargo, por restricciones de demanda, solo se pueden producir como mucho 40 kg de x en cada lote. Por capacidad de la planta solo se pueden producir 80 kg de productos totales. El almacenamiento de los productos también es una limitación, no pudiéndose almacenar más de 100 m3 de productos (densidad de 2.1 m3/kg y 1.7 m3/kg de x e y respectivamente). Establezca cuál es la cantidad óptima de x e y que se pueden producir"
   ],
   "metadata": {}
  },
  {
   "cell_type": "markdown",
   "source": [
    "$$\n",
    "\\begin{align}\n",
    "\t&\\text{max }  && z=40x+30y &&\\\\\n",
    "\t&\\text{s.t. }  && x    \\le  40\\\\\n",
    "\t&  && x+y \\le  80\\\\\n",
    "    &  && 2.1x+1.7y \\le100 \\\\\n",
    "    & && x,y \\geq  0  \\\\\n",
    "\\end{align}\n",
    "$$"
   ],
   "metadata": {}
  },
  {
   "cell_type": "markdown",
   "source": [
    "#### El primer paso será instalar Pyomo y dos solvers (ipopt y glpk)"
   ],
   "metadata": {}
  },
  {
   "cell_type": "markdown",
   "source": [
    "Esto lo ejecutamos desde el terminal de Anaconda:\n",
    "\n",
    "conda install -c conda-forge pyomo\n",
    "\n",
    "conda install -c conda-forge ipopt glpk"
   ],
   "metadata": {}
  },
  {
   "cell_type": "code",
   "execution_count": 1,
   "source": [
    "!pyomo help --solvers"
   ],
   "outputs": [
    {
     "output_type": "stream",
     "name": "stdout",
     "text": [
      "\n",
      "Pyomo Solvers and Solver Managers\n",
      "---------------------------------\n",
      "Pyomo uses 'solver managers' to execute 'solvers' that perform\n",
      "optimization and other forms of model analysis.  A solver directly\n",
      "executes an optimizer, typically using an executable found on the\n",
      "user's PATH environment.  Solver managers support a flexible mechanism\n",
      "for asyncronously executing solvers either locally or remotely.  The\n",
      "following solver managers are available in Pyomo:\n",
      "\n",
      "    neos       Asynchronously execute solvers on the NEOS server\n",
      "    serial     Synchronously execute solvers locally\n",
      "\n",
      "If no solver manager is specified, Pyomo uses the serial solver\n",
      "manager to execute solvers locally.  The pyro and phpyro solver\n",
      "managers require the installation and configuration of the pyro\n",
      "software.  The neos solver manager is used to execute solvers on the\n",
      "NEOS optimization server.\n",
      "\n",
      "\n",
      "Serial Solver Interfaces\n",
      "------------------------\n",
      "The serial, pyro and phpyro solver managers support the following\n",
      "solver interfaces:\n",
      "\n",
      "   *asl                        Interface for solvers using the AMPL\n",
      "                               Solver Library\n",
      "    baron                      The BARON MINLP solver\n",
      "   +bilevel_blp_global         Global solver for continuous bilevel\n",
      "                               linear problems\n",
      "   +bilevel_blp_local          Local solver for continuous bilevel\n",
      "                               linear problems\n",
      "   +bilevel_bqp                Global solver for bilevel quadratic\n",
      "                               problems\n",
      "   +bilevel_ld                 Solver for bilevel problems using\n",
      "                               linear duality\n",
      "    cbc                        The CBC LP/MIP solver\n",
      "    conopt                     The CONOPT NLP solver\n",
      "    contrib.gjh                Interface to the AMPL GJH \"solver\"\n",
      "    cplex                      The CPLEX LP/MIP solver\n",
      "    cplex_direct               Direct python interface to CPLEX\n",
      "    cplex_persistent           Persistent python interface to CPLEX\n",
      "   +gams               25.0    The GAMS modeling language\n",
      "   +gdpbb              19.5.7  Branch and Bound based GDP Solver\n",
      "   +gdpopt             20.2.28 The GDPopt decomposition-based\n",
      "                               Generalized Disjunctive Programming\n",
      "                               (GDP) solver\n",
      "   +glpk               4.65    The GLPK LP/MIP solver\n",
      "    gurobi                     The GUROBI LP/MIP solver\n",
      "    gurobi_direct              Direct python interface to Gurobi\n",
      "    gurobi_persistent          Persistent python interface to Gurobi\n",
      "    ipopt                      The Ipopt NLP solver\n",
      "   +mindtpy            0.1     MindtPy: Mixed-Integer Nonlinear\n",
      "                               Decomposition Toolbox in Pyomo\n",
      "    mosek                      Direct python interface to Mosek\n",
      "   +mpec_minlp                 MPEC solver transforms to a MINLP\n",
      "   +mpec_nlp                   MPEC solver that optimizes a nonlinear\n",
      "                               transformation\n",
      "   +multistart                 MultiStart solver for NLPs\n",
      "    path                       Nonlinear MCP solver\n",
      "    pico                       The PICO LP/MIP solver\n",
      "   +ps                         Pyomo's simple pattern search optimizer\n",
      "   *py                         Direct python solver interfaces\n",
      "    scip                       The SCIP LP/MIP solver\n",
      "   +trustregion                Trust region filter method for black\n",
      "                               box/glass box optimization\n",
      "    xpress                     The XPRESS LP/MIP solver\n",
      "\n",
      "The leading symbol (one of *, -, +) indicates the current solver\n",
      "availability.  A plus (+) indicates the solver is currently available\n",
      "to be run from Pyomo with the serial solver manager, and (if\n",
      "applicable) has a valid license.  A minus (-) indicates the solver\n",
      "executables are available but do not reporthaving a valid license.\n",
      "The solver may still be usable in an unlicensed or \"demo\" mode for\n",
      "limited problem sizes. An asterisk (*) indicates meta-solvers or\n",
      "generic interfaces, which are always available.\n",
      "\n",
      "Pyomo also supports solver interfaces that are wrappers around third-\n",
      "party solver interfaces. These interfaces require a subsolver\n",
      "specification that indicates the solver being executed.  For example,\n",
      "the following indicates that the ipopt solver will be used:\n",
      "\n",
      "   asl:ipopt\n",
      "\n",
      "The asl interface provides a generic wrapper for all solvers that use\n",
      "the AMPL Solver Library.\n",
      "\n",
      "Note that subsolvers can not be enumerated automatically for these\n",
      "interfaces.  However, if a solver is specified that is not found,\n",
      "Pyomo assumes that the asl solver interface is being used.  Thus the\n",
      "following solver name will launch ipopt if the 'ipopt' executable is\n",
      "on the user's path:\n",
      "\n",
      "   ipopt\n",
      "\n",
      "\n",
      "NEOS Solver Interfaces\n",
      "----------------------\n",
      "The neos solver manager supports solver interfaces that can be\n",
      "executed remotely on the NEOS optimization server.  The following\n",
      "solver interfaces are available with your current system\n",
      "configuration:\n",
      "\n",
      "    bonmin       Heuristic MINLP solver\n",
      "    cbc          MILP solver\n",
      "    conopt       Feasible path NLP solver\n",
      "    couenne      Exact MINLP solver\n",
      "    cplex        MILP solver\n",
      "    filmint      Heuristic MINLP solver\n",
      "    filter       SQP NLP solver\n",
      "    ipopt        Interior point NLP solver\n",
      "    knitro       Convex MINLP solver\n",
      "    l-bfgs-b     Bound-constrained NLP solver\n",
      "    lancelot     Augmented Lagrangian NLP solver\n",
      "    lgo          Unexpected NEOS solver\n",
      "    loqo         Interior point NLP solver\n",
      "    minlp        Heuristic MINLP solver\n",
      "    minos        SLC NLP solver\n",
      "    minto        MILP solver\n",
      "    mosek        Interior point NLP solver\n",
      "    ooqp         Convex QP solver\n",
      "    path         Nonlinear MCP solver\n",
      "    raposa       Unexpected NEOS solver\n",
      "    snopt        SQP NLP solver\n",
      "\n"
     ]
    }
   ],
   "metadata": {}
  },
  {
   "cell_type": "markdown",
   "source": [
    "#### Importamos Pyomo"
   ],
   "metadata": {}
  },
  {
   "cell_type": "code",
   "execution_count": 2,
   "source": [
    "from pyomo.environ import *"
   ],
   "outputs": [],
   "metadata": {}
  },
  {
   "cell_type": "markdown",
   "source": [
    "#### Creamos un problema concreto, es decir, un objeto de la clase problema que ya contenga parámetros"
   ],
   "metadata": {}
  },
  {
   "cell_type": "code",
   "execution_count": 3,
   "source": [
    "model = ConcreteModel()"
   ],
   "outputs": [],
   "metadata": {}
  },
  {
   "cell_type": "markdown",
   "source": [
    "#### Definimos las variables como no negativas"
   ],
   "metadata": {}
  },
  {
   "cell_type": "code",
   "execution_count": 4,
   "source": [
    "model.x = Var(domain=NonNegativeReals, bounds=(50,None))\r\n",
    "model.y = Var(domain=PositiveIntegers)\r\n"
   ],
   "outputs": [],
   "metadata": {}
  },
  {
   "cell_type": "markdown",
   "source": [
    "#### Definimos la función objetivo"
   ],
   "metadata": {}
  },
  {
   "cell_type": "code",
   "execution_count": 5,
   "source": [
    "model.profit = Objective(expr = 40*model.x + 30*model.y,\r\n",
    "                         sense=maximize)"
   ],
   "outputs": [],
   "metadata": {}
  },
  {
   "cell_type": "markdown",
   "source": [
    "#### Definimos la restricciones"
   ],
   "metadata": {}
  },
  {
   "cell_type": "code",
   "execution_count": 6,
   "source": [
    "model.demand = Constraint(expr = model.x <= 40)\r\n",
    "model.laborA = Constraint(expr = model.x + model.y <= 80)\r\n",
    "model.laborB = Constraint(expr = 2.1*model.x + 1.7*model.y <= 100)"
   ],
   "outputs": [],
   "metadata": {}
  },
  {
   "cell_type": "code",
   "execution_count": 7,
   "source": [
    "model.dual = Suffix(direction=Suffix.IMPORT_EXPORT)\r\n",
    "results = SolverFactory('glpk').solve(model)\r\n",
    "model.pprint()\r\n",
    "results.write()   "
   ],
   "outputs": [
    {
     "output_type": "stream",
     "name": "stdout",
     "text": [
      "2 Var Declarations\n",
      "    x : Size=1, Index=None\n",
      "        Key  : Lower : Value : Upper : Fixed : Stale : Domain\n",
      "        None :    50 :  None :  None : False :  True : NonNegativeReals\n",
      "    y : Size=1, Index=None\n",
      "        Key  : Lower : Value : Upper : Fixed : Stale : Domain\n",
      "        None :     1 :  None :  None : False :  True : PositiveIntegers\n",
      "\n",
      "1 Objective Declarations\n",
      "    profit : Size=1, Index=None, Active=True\n",
      "        Key  : Active : Sense    : Expression\n",
      "        None :   True : maximize : 40*x + 30*y\n",
      "\n",
      "3 Constraint Declarations\n",
      "    demand : Size=1, Index=None, Active=True\n",
      "        Key  : Lower : Body : Upper : Active\n",
      "        None :  -Inf :    x :  40.0 :   True\n",
      "    laborA : Size=1, Index=None, Active=True\n",
      "        Key  : Lower : Body  : Upper : Active\n",
      "        None :  -Inf : x + y :  80.0 :   True\n",
      "    laborB : Size=1, Index=None, Active=True\n",
      "        Key  : Lower : Body          : Upper : Active\n",
      "        None :  -Inf : 2.1*x + 1.7*y : 100.0 :   True\n",
      "\n",
      "1 Suffix Declarations\n",
      "    dual : Direction=Suffix.IMPORT_EXPORT, Datatype=Suffix.FLOAT\n",
      "        Key : Value\n",
      "\n",
      "7 Declarations: x y profit demand laborA laborB dual\n",
      "# ==========================================================\n",
      "# = Solver Results                                         =\n",
      "# ==========================================================\n",
      "# ----------------------------------------------------------\n",
      "#   Problem Information\n",
      "# ----------------------------------------------------------\n",
      "Problem: \n",
      "- Name: unknown\n",
      "  Lower bound: -inf\n",
      "  Upper bound: inf\n",
      "  Number of objectives: 1\n",
      "  Number of constraints: 4\n",
      "  Number of variables: 3\n",
      "  Number of nonzeros: 6\n",
      "  Sense: maximize\n",
      "# ----------------------------------------------------------\n",
      "#   Solver Information\n",
      "# ----------------------------------------------------------\n",
      "Solver: \n",
      "- Status: ok\n",
      "  Termination condition: infeasible\n",
      "  Statistics: \n",
      "    Branch and bound: \n",
      "      Number of bounded subproblems: 0\n",
      "      Number of created subproblems: 0\n",
      "  Error rc: 0\n",
      "  Time: 0.04738497734069824\n"
     ]
    }
   ],
   "metadata": {}
  }
 ],
 "metadata": {
  "kernelspec": {
   "display_name": "Python 3",
   "language": "python",
   "name": "python3"
  },
  "language_info": {
   "codemirror_mode": {
    "name": "ipython",
    "version": 3
   },
   "file_extension": ".py",
   "mimetype": "text/x-python",
   "name": "python",
   "nbconvert_exporter": "python",
   "pygments_lexer": "ipython3",
   "version": "3.8.3"
  }
 },
 "nbformat": 4,
 "nbformat_minor": 4
}
