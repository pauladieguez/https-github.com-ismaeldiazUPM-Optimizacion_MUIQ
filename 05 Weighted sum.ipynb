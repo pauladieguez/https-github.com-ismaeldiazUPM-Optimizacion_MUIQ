{
 "cells": [
  {
   "cell_type": "markdown",
   "metadata": {},
   "source": [
    "## Ejercicio 5: Aplicación del método weighted-sum"
   ]
  },
  {
   "cell_type": "markdown",
   "metadata": {},
   "source": [
    "$$\n",
    "\\begin{align}\n",
    "\t&\\text{min }  && f_1(x)=-x_1+3.5x_2\\\\\n",
    "\t&\\text{min }  && f_2(x)=2x_1-x_2\\\\\n",
    "\t&\\text{s.t. }  && x_1   \\le  20\\\\\n",
    "\t&  && x_2 \\le  100\\\\\n",
    "    &  && 5x_1+4x_2 \\le 200\\\\\n",
    "    & && x_1, x_2 \\geq  0  \\\\\n",
    "\\end{align}\n",
    "$$"
   ]
  },
  {
   "cell_type": "code",
   "execution_count": null,
   "metadata": {},
   "outputs": [],
   "source": [
    "from pyomo.environ import *\n",
    "import matplotlib.pyplot as plt\n",
    "\n",
    "x1=list()\n",
    "x2=list()\n",
    "f1=list()\n",
    "f2=list()\n",
    "\n",
    "def modelo(w1,w2):\n",
    "    model = ConcreteModel()\n",
    "    model.X1 = Var(within=NonNegativeReals)\n",
    "    model.X2 = Var(within=NonNegativeReals)\n",
    "\n",
    "    model.C1 = Constraint(expr = model.X1 <= 20)\n",
    "    model.C2 = Constraint(expr = model.X2 <= 100)\n",
    "    model.C3 = Constraint(expr = 5 * model.X1 + 4 * model.X2 <= 200)\n",
    "\n",
    "    model.f1 = Var()\n",
    "    model.f2 = Var()\n",
    "    model.C_f1 = Constraint(expr= model.f1 == -model.X1 +3.5*model.X2)\n",
    "    model.C_f2 = Constraint(expr= model.f2 == 2*model.X1 -  model.X2)\n",
    "    model.O_f1 = Objective(expr= w1*model.f1+w2*model.f2  , sense=minimize)\n",
    "    solver = SolverFactory('glpk')\n",
    "    solver.solve(model)\n",
    "    return model.X1.value, model.X2.value,model.f1.value,model.f2.value\n"
   ]
  },
  {
   "cell_type": "code",
   "execution_count": null,
   "metadata": {},
   "outputs": [],
   "source": [
    "from random import random\n",
    "\n",
    "for i in range(100):\n",
    "    w1 = random()\n",
    "    w2= 1-w1\n",
    "    x1val,x2val,f1val,f2val =modelo(w1,w2)\n",
    "    x1.append(x1val),x2.append(x2val),f1.append(f1val),f2.append(f2val)\n",
    "\n",
    "\n",
    "fig, ax = plt.subplots()\n",
    "fig.set_dpi(100)\n",
    "ax.plot(f1,f2,'o-.', label='Pareto')\n",
    "\n",
    "ax.set(xlabel='f1(x)', ylabel='f2(x)')\n",
    "ax.legend()\n",
    "ax.grid()"
   ]
  }
 ],
 "metadata": {
  "kernelspec": {
   "display_name": "Python 3",
   "language": "python",
   "name": "python3"
  },
  "language_info": {
   "codemirror_mode": {
    "name": "ipython",
    "version": 3
   },
   "file_extension": ".py",
   "mimetype": "text/x-python",
   "name": "python",
   "nbconvert_exporter": "python",
   "pygments_lexer": "ipython3",
   "version": "3.8.3"
  }
 },
 "nbformat": 4,
 "nbformat_minor": 4
}
