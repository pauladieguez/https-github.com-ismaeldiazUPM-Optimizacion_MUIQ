{
 "cells": [
  {
   "cell_type": "code",
   "execution_count": 1,
   "source": [
    "d=3\n",
    "print('Ismael')"
   ],
   "outputs": [
    {
     "output_type": "stream",
     "name": "stdout",
     "text": [
      "Ismael\n"
     ]
    }
   ],
   "metadata": {}
  }
 ],
 "metadata": {
  "orig_nbformat": 4,
  "language_info": {
   "name": "python",
   "version": "3.8.5"
  },
  "kernelspec": {
   "name": "python3",
   "display_name": "Python 3.8.5 64-bit ('base': conda)"
  },
  "interpreter": {
   "hash": "4f9d9337daf846ced0c84725cedcf300d9cb4409c84744f0880fbba17c0ad285"
  }
 },
 "nbformat": 4,
 "nbformat_minor": 2
}