{
 "cells": [
  {
   "cell_type": "markdown",
   "metadata": {},
   "source": [
    "#### El primer paso será instalar Pyomo y dos solvers (ipopt y glpk)"
   ]
  },
  {
   "cell_type": "markdown",
   "metadata": {},
   "source": [
    "Esto lo ejecutamos desde el terminal de Anaconda:\n",
    "\n",
    "conda install -c conda-forge pyomo\n",
    "\n",
    "conda install -c conda-forge ipopt glpk",
    "\n",
    "Para colab instalamos lo siguiente:",
    "\n",
    "!apt-get install -y -qq glpk-utils",
    "!pip install pyomo",
   ]
  },
  {
   "cell_type": "code",
   "execution_count": 9,
   "metadata": {},
   "outputs": [
    {
     "name": "stdout",
     "output_type": "stream",
     "text": [
      "\n",
      "Pyomo Solvers and Solver Managers\n",
      "---------------------------------\n",
      "Pyomo uses 'solver managers' to execute 'solvers' that perform\n",
      "optimization and other forms of model analysis.  A solver directly\n",
      "executes an optimizer, typically using an executable found on the\n",
      "user's PATH environment.  Solver managers support a flexible mechanism\n",
      "for asyncronously executing solvers either locally or remotely.  The\n",
      "following solver managers are available in Pyomo:\n",
      "\n",
      "    neos       Asynchronously execute solvers on the NEOS server\n",
      "    serial     Synchronously execute solvers locally\n",
      "\n",
      "If no solver manager is specified, Pyomo uses the serial solver\n",
      "manager to execute solvers locally.  The pyro and phpyro solver\n",
      "managers require the installation and configuration of the pyro\n",
      "software.  The neos solver manager is used to execute solvers on the\n",
      "NEOS optimization server.\n",
      "\n",
      "\n",
      "Serial Solver Interfaces\n",
      "------------------------\n",
      "The serial, pyro and phpyro solver managers support the following\n",
      "solver interfaces:\n",
      "\n",
      "   *asl                        Interface for solvers using the AMPL\n",
      "                               Solver Library\n",
      "    baron                      The BARON MINLP solver\n",
      "   +bilevel_blp_global         Global solver for continuous bilevel\n",
      "                               linear problems\n",
      "   +bilevel_blp_local          Local solver for continuous bilevel\n",
      "                               linear problems\n",
      "   +bilevel_bqp                Global solver for bilevel quadratic\n",
      "                               problems\n",
      "   +bilevel_ld                 Solver for bilevel problems using\n",
      "                               linear duality\n",
      "    cbc                        The CBC LP/MIP solver\n",
      "    conopt                     The CONOPT NLP solver\n",
      "    contrib.gjh                Interface to the AMPL GJH \"solver\"\n",
      "    cplex                      The CPLEX LP/MIP solver\n",
      "    cplex_direct               Direct python interface to CPLEX\n",
      "    cplex_persistent           Persistent python interface to CPLEX\n",
      "   +gams               25.0    The GAMS modeling language\n",
      "   +gdpbb              19.5.7  Branch and Bound based GDP Solver\n",
      "   +gdpopt             20.2.28 The GDPopt decomposition-based\n",
      "                               Generalized Disjunctive Programming\n",
      "                               (GDP) solver\n",
      "   +glpk               4.65    The GLPK LP/MIP solver\n",
      "    gurobi                     The GUROBI LP/MIP solver\n",
      "    gurobi_direct              Direct python interface to Gurobi\n",
      "    gurobi_persistent          Persistent python interface to Gurobi\n",
      "    ipopt                      The Ipopt NLP solver\n",
      "   +mindtpy            0.1     MindtPy: Mixed-Integer Nonlinear\n",
      "                               Decomposition Toolbox in Pyomo\n",
      "    mosek                      Direct python interface to Mosek\n",
      "   +mpec_minlp                 MPEC solver transforms to a MINLP\n",
      "   +mpec_nlp                   MPEC solver that optimizes a nonlinear\n",
      "                               transformation\n",
      "   +multistart                 MultiStart solver for NLPs\n",
      "    path                       Nonlinear MCP solver\n",
      "    pico                       The PICO LP/MIP solver\n",
      "   +ps                         Pyomo's simple pattern search optimizer\n",
      "   *py                         Direct python solver interfaces\n",
      "    scip                       The SCIP LP/MIP solver\n",
      "   +trustregion                Trust region filter method for black\n",
      "                               box/glass box optimization\n",
      "    xpress                     The XPRESS LP/MIP solver\n",
      "\n",
      "The leading symbol (one of *, -, +) indicates the current solver\n",
      "availability.  A plus (+) indicates the solver is currently available\n",
      "to be run from Pyomo with the serial solver manager, and (if\n",
      "applicable) has a valid license.  A minus (-) indicates the solver\n",
      "executables are available but do not reporthaving a valid license.\n",
      "The solver may still be usable in an unlicensed or \"demo\" mode for\n",
      "limited problem sizes. An asterisk (*) indicates meta-solvers or\n",
      "generic interfaces, which are always available.\n",
      "\n",
      "Pyomo also supports solver interfaces that are wrappers around third-\n",
      "party solver interfaces. These interfaces require a subsolver\n",
      "specification that indicates the solver being executed.  For example,\n",
      "the following indicates that the ipopt solver will be used:\n",
      "\n",
      "   asl:ipopt\n",
      "\n",
      "The asl interface provides a generic wrapper for all solvers that use\n",
      "the AMPL Solver Library.\n",
      "\n",
      "Note that subsolvers can not be enumerated automatically for these\n",
      "interfaces.  However, if a solver is specified that is not found,\n",
      "Pyomo assumes that the asl solver interface is being used.  Thus the\n",
      "following solver name will launch ipopt if the 'ipopt' executable is\n",
      "on the user's path:\n",
      "\n",
      "   ipopt\n",
      "\n",
      "\n",
      "NEOS Solver Interfaces\n",
      "----------------------\n",
      "The neos solver manager supports solver interfaces that can be\n",
      "executed remotely on the NEOS optimization server.  The following\n",
      "solver interfaces are available with your current system\n",
      "configuration:\n",
      "\n",
      "    bonmin       Heuristic MINLP solver\n",
      "    cbc          MILP solver\n",
      "    conopt       Feasible path NLP solver\n",
      "    couenne      Exact MINLP solver\n",
      "    cplex        MILP solver\n",
      "    filmint      Heuristic MINLP solver\n",
      "    filter       SQP NLP solver\n",
      "    ipopt        Interior point NLP solver\n",
      "    knitro       Convex MINLP solver\n",
      "    l-bfgs-b     Bound-constrained NLP solver\n",
      "    lancelot     Augmented Lagrangian NLP solver\n",
      "    lgo          Unexpected NEOS solver\n",
      "    loqo         Interior point NLP solver\n",
      "    minlp        Heuristic MINLP solver\n",
      "    minos        SLC NLP solver\n",
      "    minto        MILP solver\n",
      "    mosek        Interior point NLP solver\n",
      "    ooqp         Convex QP solver\n",
      "    path         Nonlinear MCP solver\n",
      "    raposa       Unexpected NEOS solver\n",
      "    snopt        SQP NLP solver\n",
      "\n"
     ]
    }
   ],
   "source": [
    "!pyomo help --solvers"
   ]
  },
  {
   "cell_type": "markdown",
   "metadata": {},
   "source": [
    "#### Resolveremos este sencillo problema de optimización lineal"
   ]
  },
  {
   "cell_type": "markdown",
   "metadata": {},
   "source": [
    "$$\n",
    "\\begin{align}\n",
    "\t&\\text{max }  && z=40x+30y &&\\\\\n",
    "\t&\\text{s.t. }  && x    \\le  40\\\\\n",
    "\t&  && x+y \\le  80\\\\\n",
    "    &  && 2x+y \\le100 \\\\\n",
    "    & && x,y \\geq  0  \\\\\n",
    "\\end{align}\n",
    "$$"
   ]
  },
  {
   "cell_type": "markdown",
   "metadata": {},
   "source": [
    "#### Importamos Pyomo"
   ]
  },
  {
   "cell_type": "code",
   "execution_count": 10,
   "metadata": {},
   "outputs": [],
   "source": [
    "from pyomo.environ import *"
   ]
  },
  {
   "cell_type": "markdown",
   "metadata": {},
   "source": [
    "#### Creamos un problema concreto, es decir, un objeto de la clase problema que ya contenga parámetros"
   ]
  },
  {
   "cell_type": "code",
   "execution_count": 11,
   "metadata": {},
   "outputs": [],
   "source": [
    "model = ConcreteModel()"
   ]
  },
  {
   "cell_type": "markdown",
   "metadata": {},
   "source": [
    "#### Definimos las variables como no negativas"
   ]
  },
  {
   "cell_type": "code",
   "execution_count": 12,
   "metadata": {},
   "outputs": [],
   "source": [
    "model.x = Var(domain=NonNegativeReals)\n",
    "model.y = Var(domain=NonNegativeReals)"
   ]
  },
  {
   "cell_type": "markdown",
   "metadata": {},
   "source": [
    "#### Definimos la función objetivo"
   ]
  },
  {
   "cell_type": "code",
   "execution_count": 13,
   "metadata": {},
   "outputs": [],
   "source": [
    "model.profit = Objective(expr = 40*model.x + 30*model.y, sense=maximize)"
   ]
  },
  {
   "cell_type": "markdown",
   "metadata": {},
   "source": [
    "#### Definimos la restricciones"
   ]
  },
  {
   "cell_type": "code",
   "execution_count": 14,
   "metadata": {},
   "outputs": [],
   "source": [
    "model.demand = Constraint(expr = model.x <= 40)\n",
    "model.laborA = Constraint(expr = model.x + model.y <= 80)\n",
    "model.laborB = Constraint(expr = 2*model.x + model.y <= 100)"
   ]
  },
  {
   "cell_type": "code",
   "execution_count": 15,
   "metadata": {},
   "outputs": [
    {
     "name": "stdout",
     "output_type": "stream",
     "text": [
      "--- Job model.gms Start 03/27/21 00:11:59 25.0.0 r65090 WEX-WEI x86 64bit/MS Windows\n",
      "GAMS 25.0.0   Copyright (C) 1987-2018 GAMS Development. All rights reserved\n",
      "*** ************* BETA release\n",
      "*** GAMS Base Module 25.0.0 r65090 BETA Released 12Jan18 WEI x86 64bit/MS Windows \n",
      "*** ************* BETA release\n",
      "Licensee: Small MUD - 5 User License                     S170124:0844AO-WIN\n",
      "          Universidad Politecnica de Madrid, INGENIERIA QUIMICA INDUDC13043\n",
      "          License for teaching and research at degree granting institutions\n",
      "          License Admin: Ismael Diaz, ismael.diaz@upm.es                   \n",
      "--- Starting compilation\n",
      "--- model.gms(91) 2 Mb\n",
      "--- Starting execution: elapsed 0:00:00.003\n",
      "--- model.gms(30) 3 Mb\n",
      "--- Generating LP model GAMS_MODEL\n",
      "--- model.gms(31) 3 Mb\n",
      "---   4 rows  3 columns  8 non-zeroes\n",
      "--- Executing CPLEX (Solvelink=5): elapsed 0:00:00.006\n",
      "\n",
      "IBM ILOG CPLEX   25.0.0 r65090 BETA Released 12Jan18 WEI x86 64bit/MS Windows \n",
      "Cplex 12.8.0.0\n",
      "\n",
      "Reading data...\n",
      "Starting Cplex...\n",
      "Space for names approximately 0.00 Mb\n",
      "Use option 'names no' to turn use of names off\n",
      "CPXPARAM_Advance                                 0\n",
      "CPXPARAM_Simplex_Display                         2\n",
      "CPXPARAM_Simplex_Limits_Iterations               2000000000\n",
      "CPXPARAM_TimeLimit                               1000\n",
      "CPXPARAM_Threads                                 1\n",
      "CPXPARAM_Parallel                                1\n",
      "CPXPARAM_Tune_TimeLimit                          200\n",
      "Tried aggregator 1 time.\n",
      "LP Presolve eliminated 2 rows and 1 columns.\n",
      "Reduced LP has 2 rows, 2 columns, and 4 nonzeros.\n",
      "Presolve time = 0.00 sec. (0.00 ticks)\n",
      "\n",
      "Iteration      Dual Objective            In Variable           Out Variable\n",
      "     1  I            0.000000                     x2            c2_hi slack\n",
      "     2            2600.000000                     x1            c3_hi slack\n",
      "LP status(1): optimal\n",
      "Cplex Time: 0.00sec (det. 0.00 ticks)\n",
      "\n",
      "Optimal solution found.\n",
      "Objective :        2600.000000\n",
      "\n",
      "--- Reading solution for model GAMS_MODEL\n",
      "--- model.gms(91) 3 Mb\n",
      "--- Putfile results C:\\Users\\Usuario\\AppData\\Local\\Temp\\tmpmm9bnfsj\\results.dat\n",
      "--- Putfile statresults C:\\Users\\Usuario\\AppData\\Local\\Temp\\tmpmm9bnfsj\\resultsstat.dat\n",
      "*** Status: Normal completion\n",
      "--- Job model.gms Stop 03/27/21 00:12:00 elapsed 0:00:00.030\n"
     ]
    }
   ],
   "source": [
    "results = SolverFactory('gams').solve(model, solver = 'cplex', tee = True)\n",
    "   "
   ]
  },
  {
   "cell_type": "code",
   "execution_count": 16,
   "metadata": {},
   "outputs": [
    {
     "name": "stdout",
     "output_type": "stream",
     "text": [
      "2 Var Declarations\n",
      "    x : Size=1, Index=None\n",
      "        Key  : Lower : Value : Upper : Fixed : Stale : Domain\n",
      "        None :     0 :  20.0 :  None : False : False : NonNegativeReals\n",
      "    y : Size=1, Index=None\n",
      "        Key  : Lower : Value : Upper : Fixed : Stale : Domain\n",
      "        None :     0 :  60.0 :  None : False : False : NonNegativeReals\n",
      "\n",
      "1 Objective Declarations\n",
      "    profit : Size=1, Index=None, Active=True\n",
      "        Key  : Active : Sense    : Expression\n",
      "        None :   True : maximize : 40*x + 30*y\n",
      "\n",
      "3 Constraint Declarations\n",
      "    demand : Size=1, Index=None, Active=True\n",
      "        Key  : Lower : Body : Upper : Active\n",
      "        None :  -Inf :    x :  40.0 :   True\n",
      "    laborA : Size=1, Index=None, Active=True\n",
      "        Key  : Lower : Body  : Upper : Active\n",
      "        None :  -Inf : x + y :  80.0 :   True\n",
      "    laborB : Size=1, Index=None, Active=True\n",
      "        Key  : Lower : Body    : Upper : Active\n",
      "        None :  -Inf : 2*x + y : 100.0 :   True\n",
      "\n",
      "6 Declarations: x y profit demand laborA laborB\n",
      "# ==========================================================\n",
      "# = Solver Results                                         =\n",
      "# ==========================================================\n",
      "# ----------------------------------------------------------\n",
      "#   Problem Information\n",
      "# ----------------------------------------------------------\n",
      "Problem: \n",
      "- Name: C\\x3a\\Users\\Usuario\\AppData\\Local\\Temp\\tmpmm9bnfsj\\model.gms\n",
      "  Lower bound: 2600.0\n",
      "  Upper bound: nan\n",
      "  Number of objectives: 1\n",
      "  Number of constraints: 4.0\n",
      "  Number of variables: 3.0\n",
      "  Number of binary variables: None\n",
      "  Number of integer variables: 0.0\n",
      "  Number of continuous variables: 3.0\n",
      "  Number of nonzeros: 8.0\n",
      "  Sense: maximize\n",
      "# ----------------------------------------------------------\n",
      "#   Solver Information\n",
      "# ----------------------------------------------------------\n",
      "Solver: \n",
      "- Name: GAMS (25, 0, 0, 0)\n",
      "  Status: ok\n",
      "  Return code: 0\n",
      "  Message: None\n",
      "  User time: 0.013999873772264\n",
      "  System time: None\n",
      "  Wallclock time: None\n",
      "  Termination condition: optimal\n",
      "  Termination message: None\n",
      "# ----------------------------------------------------------\n",
      "#   Solution Information\n",
      "# ----------------------------------------------------------\n",
      "Solution: \n",
      "- number of solutions: 0\n",
      "  number of solutions displayed: 0\n"
     ]
    }
   ],
   "source": [
    "model.pprint()\n",
    "results.write()"
   ]
  },
  {
   "cell_type": "code",
   "execution_count": null,
   "metadata": {},
   "outputs": [],
   "source": []
  }
 ],
 "metadata": {
  "kernelspec": {
   "display_name": "Python 3",
   "language": "python",
   "name": "python3"
  },
  "language_info": {
   "codemirror_mode": {
    "name": "ipython",
    "version": 3
   },
   "file_extension": ".py",
   "mimetype": "text/x-python",
   "name": "python",
   "nbconvert_exporter": "python",
   "pygments_lexer": "ipython3",
   "version": "3.8.3"
  }
 },
 "nbformat": 4,
 "nbformat_minor": 4
}
